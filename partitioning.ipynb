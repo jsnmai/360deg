{
 "cells": [
  {
   "cell_type": "markdown",
   "metadata": {},
   "source": [
    "# Getting Started"
   ]
  },
  {
   "cell_type": "markdown",
   "metadata": {},
   "source": [
    "### Recommend using a virtual environment (conda is common for ML)"
   ]
  },
  {
   "cell_type": "markdown",
   "metadata": {},
   "source": [
    "Create conda env with:\n",
    "\n",
    "    conda create -n YourNameHere python=3.11\n",
    "\n",
    "To activate conda env:\n",
    "\n",
    "    conda activate YourNameHere\n"
   ]
  },
  {
   "cell_type": "markdown",
   "metadata": {},
   "source": [
    "### Install required packages"
   ]
  },
  {
   "cell_type": "markdown",
   "metadata": {},
   "source": [
    "    conda install numpy pandas scikit-learn matplotlib pillow -c conda-forge\n",
    "\n",
    "    conda install pytorch torchvision torchaudio -c pytorch\n",
    "\n",
    "    pip install iterative-stratification timm\n"
   ]
  },
  {
   "cell_type": "markdown",
   "metadata": {},
   "source": [
    "### Relevant Resources"
   ]
  },
  {
   "cell_type": "markdown",
   "metadata": {},
   "source": [
    "Demo .csv Dataset:\n",
    "\n",
    "https://www.dropbox.com/scl/fi/1tck9b8bab8z3n38m7jio/miml_dataset.zip?rlkey=11nwt23wa40o8iqmp24898d3g&e=5&dl=0 \n"
   ]
  },
  {
   "cell_type": "markdown",
   "metadata": {},
   "source": [
    "## 1. Imports & Hyperparameters"
   ]
  },
  {
   "cell_type": "code",
   "execution_count": null,
   "metadata": {},
   "outputs": [],
   "source": [
    "import random\n",
    "import numpy as np\n",
    "import torch\n",
    "import pandas as pd\n",
    "import os\n",
    "from iterstrat.ml_stratifiers import MultilabelStratifiedShuffleSplit\n",
    "import matplotlib.pyplot as plt\n",
    "\n",
    "USE_GPU = True\n",
    "\n",
    "# --- Partitioning Proportions --- (Ensure total == 1.0)\n",
    "TRAIN_RATIO = 0.8                   \n",
    "VAL_RATIO = 0.1                    \n",
    "TEST_RATIO = 0.1       \n",
    "\n",
    "# --- Seeds for Reproducibility ---\n",
    "RANDOM_SEED = 42\n",
    "random.seed(RANDOM_SEED) # Python built‑in\n",
    "np.random.seed(RANDOM_SEED) # NumPy\n",
    "torch.manual_seed(RANDOM_SEED) # PyTorch (CPU)\n",
    "\n",
    "# --- GPU Device Setup -----------------------------------------\n",
    "if USE_GPU:\n",
    "    if torch.cuda.is_available():\n",
    "        device = torch.device(\"cuda\")\n",
    "    elif hasattr(torch.backends, \"mps\") and torch.backends.mps.is_available():\n",
    "        device = torch.device(\"mps\")\n",
    "    else:\n",
    "        device = torch.device(\"cpu\")\n",
    "else:\n",
    "    device = torch.device(\"cpu\")\n",
    "\n",
    "if (USE_GPU and device.type == \"cuda\"):\n",
    "    torch.cuda.manual_seed(RANDOM_SEED) # Seeding for PyTorch (all GPUs)\n",
    "    torch.cuda.manual_seed_all(RANDOM_SEED)\n",
    "    torch.backends.cudnn.deterministic = True\n",
    "    torch.backends.cudnn.benchmark = True\n",
    "\n",
    "print(f\"Using device: {device}\")\n"
   ]
  },
  {
   "cell_type": "markdown",
   "metadata": {},
   "source": [
    "## 2. Load Labels from .csv/.json to DataFrame for Easy Handling"
   ]
  },
  {
   "cell_type": "markdown",
   "metadata": {},
   "source": [
    "\n",
    "### a. For JSON"
   ]
  },
  {
   "cell_type": "code",
   "execution_count": null,
   "metadata": {},
   "outputs": [],
   "source": [
    "NDJSON_PATH = 'demo_360.ndjson'\n",
    "IMG_DIR = \"miml_dataset/images\"  \n",
    "\n",
    "max_count = 0\n",
    "deepest_order = None\n",
    "with open(NDJSON_PATH, \"r\") as file:\n",
    "    for line in file:\n",
    "        record = json.loads(line)\n",
    "        found_columns = []\n",
    "        for project in record.get(\"projects\", {}).values():\n",
    "            for label in project.get(\"labels\", []):\n",
    "                for cls in label.get(\"annotations\", {}).get(\"classifications\", []):\n",
    "                    found_columns.append(cls[\"name\"])\n",
    "        if len(found_columns) > max_count:\n",
    "            max_count = len(found_columns)\n",
    "            deepest_order = found_columns\n",
    "print(\"Deepest order of classifications/labels:\", deepest_order)"
   ]
  },
  {
   "cell_type": "code",
   "execution_count": null,
   "metadata": {},
   "outputs": [],
   "source": [
    "# Stream the NDJSON and build one dict per image\n",
    "records = []\n",
    "distance_columns = set()\n",
    "with open(NDJSON_PATH, \"r\") as file:\n",
    "    for line in file:\n",
    "        record = json.loads(line)\n",
    "        ext_id = record[\"data_row\"][\"external_id\"]\n",
    "        # initialize the row with external_id + all label cols set to NaN\n",
    "        row = {\"external_id\": ext_id} \n",
    "        for label in deepest_order:\n",
    "            row[label] = np.nan\n",
    "        # fill in each classification\n",
    "        for project in record.get(\"projects\", {}).values():\n",
    "            for label in project.get(\"labels\", []):\n",
    "                for cls in label[\"annotations\"].get(\"classifications\", []):\n",
    "                    name = cls.get(\"name\")\n",
    "                    if name not in deepest_order:\n",
    "                        continue\n",
    "                    # Case: Free‑text fields (Extra Notes)\n",
    "                    if cls.get(\"text_answer\"):\n",
    "                        row[name] = cls[\"text_answer\"].get(\"content\")\n",
    "                    # Case: Checklist fields (confidence score and distance)\n",
    "                    elif cls.get(\"checklist_answers\"):\n",
    "                        answers = [a.get(\"name\") for a in cls[\"checklist_answers\"]]\n",
    "                        # extract the numeric (confidence) answer\n",
    "                        conf = next((a for a in answers if a and a[0].isdigit()), None)\n",
    "                        # extract the non‑numeric (distance) answer\n",
    "                        dist = next((a for a in answers if not (a and a[0].isdigit())), None)\n",
    "\n",
    "                        row[name] = conf\n",
    "                        # create the distance column on the fly\n",
    "                        distance_col = str(name)+\"_distance\"\n",
    "                        distance_columns.add(distance_col)\n",
    "                        row[distance_col] = dist\n",
    "                    # Case: Radio fields (Lily, Problematic, Revisit)\n",
    "                    elif cls.get(\"radio_answer\"):\n",
    "                        row[name] = cls[\"radio_answer\"].get(\"name\")\n",
    "                    # Fallback: raw value string\n",
    "                    else:\n",
    "                        row[name] = cls.get(\"value\")\n",
    "        records.append(row)\n",
    "df_all = pd.DataFrame(records) # Build the DataFrame (pandas will union in any distance cols)\n",
    "nonlabel_columns = {\"external_id\", \"Problematic\", \"Extra Notes\", \"Revisit\"}\n",
    "nonlabel_columns.update(distance_columns)\n",
    "label_columns = [col for col in df_all.columns if col not in nonlabel_columns]\n",
    "df_all.head()"
   ]
  },
  {
   "cell_type": "code",
   "execution_count": null,
   "metadata": {},
   "outputs": [],
   "source": [
    "# Re‑order columns by adding labels w/ its corresponding *_distance column(if it exists) in the order as it appears in LabelBox(deepest_order)\n",
    "ordered_columns = [\"external_id\"]\n",
    "for label in deepest_order:\n",
    "    ordered_columns.append(label)\n",
    "    distance_col = str(label)+\"_distance\"\n",
    "    if distance_col in df_all.columns: # Also add corresponding *_distance column if it exists\n",
    "        ordered_columns.append(distance_col)\n",
    "df_all = df_all[ordered_columns]\n",
    "df_all.head()\n",
    "\n",
    "# ordered = (\n",
    "#     [\"external_id\"] +\n",
    "#     label_columns +\n",
    "#     distance_cols \n",
    "# )\n",
    "# df_all = df_all[ordered]\n",
    "# df_all.head()"
   ]
  },
  {
   "cell_type": "code",
   "execution_count": null,
   "metadata": {},
   "outputs": [],
   "source": [
    "def create_img_path_mapping(root_img_dir):\n",
    "    \"\"\"\n",
    "    Recursively scans the root image directory for JPEG images in any \"split_jpg\" folder\n",
    "    and creates a mapping from each image's basename to its full local file path.\n",
    "    \n",
    "    Returns:\n",
    "        dict: Mapping { img_filename : img_path }.\n",
    "    \"\"\"\n",
    "    glob_pattern = os.path.join(root_img_dir, \"*\", \"*\", \"split_jpg\", \"*.jpg\")\n",
    "    img_paths = glob.glob(glob_pattern, recursive=True)\n",
    "    mapping = {}\n",
    "    for img_path in img_paths:\n",
    "        img_filename = os.path.basename(img_path)\n",
    "        mapping[img_filename] = img_path\n",
    "    return mapping\n",
    "\n",
    "def get_base_filename(filename):\n",
    "    '''\n",
    "    Strip off suffixes like \"_left.jpg\", \"_right.jpg\" or just drop the extension\n",
    "    '''\n",
    "    for suffix in [\"_left.jpg\", \"_right.jpg\"]:\n",
    "        if filename.endswith(suffix):\n",
    "            return filename[:-len(suffix)] # Remove specified suffix\n",
    "    return os.path.splitext(filename)[0] # Fallback: Removes extensions\n",
    "\n",
    "path_map = create_img_path_mapping(IMG_DIR) # Build the mapping from filename to full path  \n",
    "group_id_series= df_all[\"external_id\"].apply(get_base_filename) # Create group_id column\n",
    "img_path_series = df_all[\"external_id\"].map(path_map) # Create image_path column\n",
    "df_all.insert(0, \"group_id\", group_id_series) # Add group_id and image_path\n",
    "df_all.insert(1, \"image_path\", img_path_series) # Add image_path\n",
    "df_all = df_all.drop(columns=nonlabel_columns) # Drop \n",
    "df_all.head()"
   ]
  },
  {
   "cell_type": "code",
   "execution_count": null,
   "metadata": {},
   "outputs": [],
   "source": [
    "df_binary = df_all.copy().fillna(0) # Make a binary copy with NaN turned to 0s\n",
    "df_binary.head()"
   ]
  },
  {
   "cell_type": "code",
   "execution_count": null,
   "metadata": {},
   "outputs": [],
   "source": [
    "POSITIVE_THRESHOLD = 3\n",
    "\n",
    "def to_binary(entry): \n",
    "    num = int(str(entry).split()[0])  # parse out a leading integer\n",
    "    return int((num > 0) and int(num <= POSITIVE_THRESHOLD))\n",
    "\n",
    "for col in label_columns:\n",
    "    df_binary[col] = df_binary[col].apply(to_binary)\n",
    "df_binary.head()"
   ]
  },
  {
   "cell_type": "markdown",
   "metadata": {},
   "source": [
    "### b. For .csv"
   ]
  },
  {
   "cell_type": "code",
   "execution_count": 44,
   "metadata": {},
   "outputs": [],
   "source": [
    "# ===============================================================\n",
    "# Helper Function: Load .csv to Datafame\n",
    "# ===============================================================\n",
    "def load_csv_to_df(csv_filepath, images_dir):\n",
    "    \"\"\"\n",
    "    Reads a CSV file into a dataframe and adds 'group_id' and 'image_path' columns.\n",
    "\n",
    "    Returns:\n",
    "        pd.DataFrame: A standardized DataFrame with columns:\n",
    "                      'Filenames', 'group_id', 'image_path', plus any additional label columns.\n",
    "    \"\"\"\n",
    "    df_csv = pd.read_csv(csv_filepath) \n",
    "    df_csv[\"group_id\"] = [os.path.splitext(filename)[0] for filename in df_csv[\"Filenames\"]] # Add 'group_id' by removing the file extension.\n",
    "    df_csv[\"image_path\"] = [os.path.join(images_dir, filename) for filename in df_csv[\"Filenames\"]] # Add 'image_path' by joining the images_dir with the filename.\n",
    "    return df_csv     "
   ]
  },
  {
   "cell_type": "code",
   "execution_count": null,
   "metadata": {},
   "outputs": [
    {
     "name": "stdout",
     "output_type": "stream",
     "text": [
      "  Filenames  desert  mountains  sea  sunset  trees group_id                 image_path\n",
      "0     1.jpg       1          0    0       0      0        1  miml_dataset/images/1.jpg\n",
      "1     2.jpg       1          0    0       0      0        2  miml_dataset/images/2.jpg\n",
      "2     3.jpg       1          0    0       0      0        3  miml_dataset/images/3.jpg\n",
      "3     4.jpg       1          1    0       0      0        4  miml_dataset/images/4.jpg\n",
      "4     5.jpg       1          0    0       0      0        5  miml_dataset/images/5.jpg\n"
     ]
    }
   ],
   "source": [
    "# Load .csv to a DataFrame\n",
    "CSV_FILE_PATH = 'miml_dataset/miml_labels_1.csv'  \n",
    "IMG_DIR = 'miml_dataset/images'     \n",
    "\n",
    "df = load_csv_to_df(CSV_FILE_PATH, IMG_DIR)\n",
    "\n",
    "pd.set_option('display.expand_frame_repr', False)\n",
    "print(df.head())"
   ]
  },
  {
   "cell_type": "markdown",
   "metadata": {},
   "source": [
    "## 3. Identify Label Columns + Fill in empty non-responses"
   ]
  },
  {
   "cell_type": "code",
   "execution_count": null,
   "metadata": {},
   "outputs": [
    {
     "name": "stdout",
     "output_type": "stream",
     "text": [
      "Label Columns: ['desert', 'mountains', 'sea', 'sunset', 'trees']\n",
      "\n",
      "  Filenames  desert  mountains  sea  sunset  trees group_id                 image_path\n",
      "0     1.jpg       1          0    0       0      0        1  miml_dataset/images/1.jpg\n",
      "1     2.jpg       1          0    0       0      0        2  miml_dataset/images/2.jpg\n",
      "2     3.jpg       1          0    0       0      0        3  miml_dataset/images/3.jpg\n",
      "3     4.jpg       1          1    0       0      0        4  miml_dataset/images/4.jpg\n",
      "4     5.jpg       1          0    0       0      0        5  miml_dataset/images/5.jpg\n"
     ]
    }
   ],
   "source": [
    "nonlabel_cols = {\"external_id\", \"Filenames\", \"group_id\", \"image_path\", \"Problematic\", \"Extra Notes\", \"Revisit\"}\n",
    "label_columns = [col for col in df.columns if col not in nonlabel_cols and not col.endswith(\"_distance\")]\n",
    "df[label_columns] = df[label_columns].fillna(0) # Fill NaN entries with 0\n",
    "\n",
    "print(f\"Label Columns: {label_columns}\\n\")\n",
    "print(df.head())"
   ]
  },
  {
   "cell_type": "markdown",
   "metadata": {},
   "source": [
    "## 4. Partition Data and Labels into Train/Validation/Test Sets"
   ]
  },
  {
   "cell_type": "code",
   "execution_count": null,
   "metadata": {},
   "outputs": [],
   "source": [
    "# ===============================================================\n",
    "# Helper Function: Stratified Split\n",
    "# ===============================================================\n",
    "def group_stratified_split(df, label_columns, group_col, split_ratio, seed):\n",
    "    \"\"\"\n",
    "    Splits the DataFrame into two subsets in a group-aware manner.\n",
    "    For each unique group (defined by group_col), this function \n",
    "    aggregates the label vectors, and then performs a stratified split \n",
    "    based on these aggregated multilabel targets.\n",
    "    \n",
    "    Args:\n",
    "        df (pd.DataFrame): The DataFrame containing the data.\n",
    "        label_columns (list): List of columns representing multilabel targets.\n",
    "        group_col (str): Column name used to group the data (ie \"group_id\").\n",
    "        split_ratio (float): Proportion of groups to use in the \"second\" split.\n",
    "        seed (int): Random seed for reproducibility.\n",
    "        \n",
    "    Returns:\n",
    "        Tuple[pd.DataFrame, pd.DataFrame]: Two DataFrame splits (first split and second split).\n",
    "    \"\"\"\n",
    "    unique_groups_array = df[group_col].unique()\n",
    "    aggregated_labels_list = [] \n",
    "    for group in unique_groups_array:\n",
    "        group_df = df[df[group_col] == group] # Extract the subset of rows for this group.\n",
    "        series_max = group_df[label_columns].max() # Use max() across rows for each label column to simulate a logical OR combining the labels per group to a panda Series\n",
    "        agg_labels = series_max.values # convert to numpy 1D array\n",
    "        aggregated_labels_list.append(agg_labels)\n",
    "    aggregated_labels_array = np.vstack(aggregated_labels_list) # stack into shape (n_groups, n_labels)\n",
    "    # Initialize the multilabel stratified shuffle split with the desired test size and random seed.\n",
    "    splitter = MultilabelStratifiedShuffleSplit(n_splits=1, test_size=split_ratio, random_state=seed)\n",
    "    # Use the splitter to get indices for train and test groups based on the aggregated labels.\n",
    "    for first_split_idx, second_split_idx in splitter.split(unique_groups_array.reshape(-1, 1), aggregated_labels_array):\n",
    "        first_groups = unique_groups_array[first_split_idx]\n",
    "        second_groups = unique_groups_array[second_split_idx]\n",
    "    # Create the final DataFrame splits by selecting rows that belong to each group split.\n",
    "    df_split_1 = df[df[group_col].isin(first_groups)].reset_index(drop=True)\n",
    "    df_split_2 = df[df[group_col].isin(second_groups)].reset_index(drop=True)\n",
    "    return df_split_1, df_split_2"
   ]
  },
  {
   "cell_type": "code",
   "execution_count": 48,
   "metadata": {},
   "outputs": [
    {
     "name": "stdout",
     "output_type": "stream",
     "text": [
      "Number of Groups per Partition:\n",
      "Train groups: 1597\n",
      "Validation groups: 205\n",
      "Test groups: 198\n"
     ]
    }
   ],
   "source": [
    "# First, split off the test set.\n",
    "df_train_and_val, df_test = group_stratified_split(df, label_columns, \"group_id\", TEST_RATIO, RANDOM_SEED)\n",
    "# Next, split train/validation.\n",
    "relative_val_ratio = VAL_RATIO / (TRAIN_RATIO + VAL_RATIO)\n",
    "df_train, df_val = group_stratified_split(df_train_and_val, label_columns, \"group_id\", relative_val_ratio, RANDOM_SEED)\n",
    "\n",
    "print(\"Number of Groups per Partition:\")\n",
    "print(\"Train groups:\", len(df_train))\n",
    "print(\"Validation groups:\", len(df_val))\n",
    "print(\"Test groups:\", len(df_test))"
   ]
  },
  {
   "cell_type": "code",
   "execution_count": null,
   "metadata": {},
   "outputs": [
    {
     "name": "stdout",
     "output_type": "stream",
     "text": [
      "Partitions saved to .csv files.\n",
      "Partition files loaded.\n"
     ]
    }
   ],
   "source": [
    "# Save DataFrame splits to .csv\n",
    "df_train.to_csv(\"train_partition.csv\", index=False)\n",
    "df_val.to_csv(\"val_partition.csv\", index=False)\n",
    "df_test.to_csv(\"test_partition.csv\", index=False)\n",
    "print(\"Partitions saved to .csv files.\")\n",
    "\n",
    "# Load DataFrames from .csv\n",
    "df_train = pd.read_csv('train_partition.csv')\n",
    "df_val = pd.read_csv('val_partition.csv')\n",
    "df_test = pd.read_csv('test_partition.csv')\n",
    "print(\"Partition files loaded.\")"
   ]
  },
  {
   "cell_type": "markdown",
   "metadata": {},
   "source": [
    "## 5. Verify Even Stratify Splitting"
   ]
  },
  {
   "cell_type": "code",
   "execution_count": 50,
   "metadata": {},
   "outputs": [
    {
     "name": "stdout",
     "output_type": "stream",
     "text": [
      "\n",
      "Label distribution in Original Dataset:\n",
      "  desert: 20.45% positive\n",
      "  mountains: 22.90% positive\n",
      "  sea: 29.00% positive\n",
      "  sunset: 23.25% positive\n",
      "  trees: 28.00% positive\n"
     ]
    },
    {
     "data": {
      "image/png": "[encoded data removed]",
      "text/plain": [
       "<Figure size 800x400 with 1 Axes>"
      ]
     },
     "metadata": {},
     "output_type": "display_data"
    },
    {
     "name": "stdout",
     "output_type": "stream",
     "text": [
      "\n",
      "Label distribution in Train:\n",
      "  desert: 20.48% positive\n",
      "  mountains: 22.92% positive\n",
      "  sea: 29.05% positive\n",
      "  sunset: 23.29% positive\n",
      "  trees: 28.05% positive\n"
     ]
    },
    {
     "data": {
      "image/png": "[encoded data removed]",
      "text/plain": [
       "<Figure size 800x400 with 1 Axes>"
      ]
     },
     "metadata": {},
     "output_type": "display_data"
    },
    {
     "name": "stdout",
     "output_type": "stream",
     "text": [
      "\n",
      "Label distribution in Validation:\n",
      "  desert: 20.00% positive\n",
      "  mountains: 22.44% positive\n",
      "  sea: 28.29% positive\n",
      "  sunset: 22.93% positive\n",
      "  trees: 27.32% positive\n"
     ]
    },
    {
     "data": {
      "image/png": "[encoded data removed]",
      "text/plain": [
       "<Figure size 800x400 with 1 Axes>"
      ]
     },
     "metadata": {},
     "output_type": "display_data"
    },
    {
     "name": "stdout",
     "output_type": "stream",
     "text": [
      "\n",
      "Label distribution in Test:\n",
      "  desert: 20.71% positive\n",
      "  mountains: 23.23% positive\n",
      "  sea: 29.29% positive\n",
      "  sunset: 23.23% positive\n",
      "  trees: 28.28% positive\n"
     ]
    },
    {
     "data": {
      "image/png": "[encoded data removed]",
      "text/plain": [
       "<Figure size 800x400 with 1 Axes>"
      ]
     },
     "metadata": {},
     "output_type": "display_data"
    }
   ],
   "source": [
    "def show_label_distribution(df, label_columns, partition_name=\"Dataset\"):\n",
    "    \"\"\"\n",
    "    Prints and plots the positive percentage for each label.\n",
    "    \"\"\"\n",
    "    print(f\"\\nLabel distribution in {partition_name}:\")\n",
    "    positive_rates = {}\n",
    "    for label in label_columns:\n",
    "        pos_rate = df[label].mean() * 100\n",
    "        positive_rates[label] = pos_rate\n",
    "        print(f\"  {label}: {pos_rate:.2f}% positive\")\n",
    "    plt.figure(figsize=(8,4))\n",
    "    plt.bar(positive_rates.keys(), positive_rates.values())\n",
    "    plt.ylabel(\"Positive (%)\")\n",
    "    plt.title(f\"Label Distribution in {partition_name}\")\n",
    "    plt.ylim(0, 100)\n",
    "    plt.xticks(rotation=45)\n",
    "    plt.show()\n",
    "    \n",
    "# Visualize the label distribution across the entire dataset.\n",
    "show_label_distribution(df, label_columns, partition_name=\"Original Dataset\")\n",
    "# Check Label Ratios Across Train/Valid/Test \n",
    "show_label_distribution(df_train, label_columns, partition_name=\"Train\")\n",
    "show_label_distribution(df_val, label_columns, partition_name=\"Validation\")\n",
    "show_label_distribution(df_test, label_columns, partition_name=\"Test\")"
   ]
  }
 ],
 "metadata": {
  "kernelspec": {
   "display_name": "360deg_env",
   "language": "python",
   "name": "python3"
  },
  "language_info": {
   "codemirror_mode": {
    "name": "ipython",
    "version": 3
   },
   "file_extension": ".py",
   "mimetype": "text/x-python",
   "name": "python",
   "nbconvert_exporter": "python",
   "pygments_lexer": "ipython3",
   "version": "3.11.8"
  }
 },
 "nbformat": 4,
 "nbformat_minor": 2
}
