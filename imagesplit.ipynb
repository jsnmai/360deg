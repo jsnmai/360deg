{
 "cells": [
  {
   "cell_type": "markdown",
   "metadata": {},
   "source": [
    "## Imports"
   ]
  },
  {
   "cell_type": "code",
   "execution_count": null,
   "metadata": {},
   "outputs": [],
   "source": [
    "import os\n",
    "# Install Pillow library with: pip install pillow\n",
    "from PIL import Image"
   ]
  },
  {
   "cell_type": "code",
   "execution_count": null,
   "metadata": {},
   "outputs": [],
   "source": [
    "ROOT_DIRECTORY = \"360d_imagery_subset\" # Change to appropriate directory"
   ]
  },
  {
   "cell_type": "markdown",
   "metadata": {},
   "source": [
    "## Helper Functions"
   ]
  },
  {
   "cell_type": "code",
   "execution_count": 2,
   "metadata": {},
   "outputs": [],
   "source": [
    "# Scans the directory for image files, extracts their dimensions (width, height), and prints all unique image sizes found.\n",
    "def check_unique_sizes(directory):\n",
    "    # Set to store unique sizes\n",
    "    unique_sizes = set()\n",
    "\n",
    "    # To handle nested directories, use os.walk:\n",
    "    for root, dirs, files in os.walk(directory):\n",
    "        for filename in files:\n",
    "            if filename.lower().endswith(('.jpg')):\n",
    "                file_path = os.path.join(root, filename)\n",
    "                try:\n",
    "                    with Image.open(file_path) as img:\n",
    "                        unique_sizes.add(img.size)\n",
    "                except Exception as e:\n",
    "                    print(f\"Error processing {file_path}: {e}\")\n",
    "\n",
    "    return unique_sizes\n",
    "\n",
    "\n",
    "# Function to count images in a given folder \n",
    "def count_images(folder):\n",
    "    count = len([f for f in os.listdir(folder) if f.lower().endswith('.jpg')])\n",
    "    return count"
   ]
  },
  {
   "cell_type": "markdown",
   "metadata": {},
   "source": [
    "### Double-check all images are the same size"
   ]
  },
  {
   "cell_type": "code",
   "execution_count": null,
   "metadata": {},
   "outputs": [
    {
     "name": "stdout",
     "output_type": "stream",
     "text": [
      "\n",
      "Folder: 360d_imagery_subset/OKE23/Day 2/jpg_export\n",
      "Unique image sizes found: {(5952, 2976)}\n",
      "\n",
      "Folder: 360d_imagery_subset/OKE23/Day 1/jpg_export\n",
      "Unique image sizes found: {(5952, 2976)}\n",
      "\n",
      "Folder: 360d_imagery_subset/OP23/Day 2/jpg_export\n",
      "Unique image sizes found: {(5952, 2976)}\n",
      "\n",
      "Folder: 360d_imagery_subset/OP23/Day 1/jpg_export\n",
      "Unique image sizes found: {(5952, 2976)}\n",
      "\n",
      "Folder: 360d_imagery_subset/OKW23/20230816/jpg_export\n",
      "Unique image sizes found: {(5952, 2976)}\n",
      "\n",
      "Folder: 360d_imagery_subset/OKW23/20230815/jpg_export\n",
      "Unique image sizes found: {(5952, 2976)}\n"
     ]
    }
   ],
   "source": [
    "for current_dir, dirs, files in os.walk(ROOT_DIRECTORY):\n",
    "    if os.path.basename(current_dir) == \"jpg_export\":\n",
    "        unique_sizes = check_unique_sizes(current_dir)\n",
    "        print(f\"\\nFolder: {current_dir}\")\n",
    "        print(f\"Unique image sizes found: {unique_sizes}\")"
   ]
  },
  {
   "cell_type": "code",
   "execution_count": 4,
   "metadata": {},
   "outputs": [
    {
     "name": "stdout",
     "output_type": "stream",
     "text": [
      "Images Found:  173\n"
     ]
    }
   ],
   "source": [
    "test_jpg_export = \"360d_imagery_subset/OKE23/Day 1/jpg_export\"\n",
    "print(\"Images Found: \", count_images(test_jpg_export))"
   ]
  },
  {
   "cell_type": "markdown",
   "metadata": {},
   "source": [
    "## Split Images"
   ]
  },
  {
   "cell_type": "code",
   "execution_count": null,
   "metadata": {},
   "outputs": [
    {
     "name": "stdout",
     "output_type": "stream",
     "text": [
      "\n",
      "Folder: 360d_imagery_subset/OKE23/Day 2/jpg_export\n",
      "Total images in jpg_export: 173\n",
      "Total images in split_jpg: 346\n",
      "\n",
      "Folder: 360d_imagery_subset/OKE23/Day 1/jpg_export\n",
      "Total images in jpg_export: 173\n",
      "Total images in split_jpg: 346\n",
      "\n",
      "Folder: 360d_imagery_subset/OP23/Day 2/jpg_export\n",
      "Total images in jpg_export: 769\n",
      "Total images in split_jpg: 1538\n",
      "\n",
      "Folder: 360d_imagery_subset/OP23/Day 1/jpg_export\n",
      "Total images in jpg_export: 769\n",
      "Total images in split_jpg: 1538\n",
      "\n",
      "Folder: 360d_imagery_subset/OKW23/20230816/jpg_export\n",
      "Total images in jpg_export: 289\n",
      "Total images in split_jpg: 578\n",
      "\n",
      "Folder: 360d_imagery_subset/OKW23/20230815/jpg_export\n",
      "Total images in jpg_export: 289\n",
      "Total images in split_jpg: 578\n"
     ]
    }
   ],
   "source": [
    "TARGET_SIZE = (5952, 2976)\n",
    "\n",
    "for current_dir, dirs, files in os.walk(ROOT_DIRECTORY):\n",
    "    if os.path.basename(current_dir) == \"jpg_export\":\n",
    "        # Folder to store split images\n",
    "        parent_dir = os.path.dirname(current_dir)\n",
    "        split_dir = os.path.join(parent_dir, \"split_jpg\")\n",
    "        os.makedirs(split_dir, exist_ok=True)\n",
    "        \n",
    "        # Process each file in the jpg_export folder\n",
    "        for file in files:\n",
    "            if file.lower().endswith(('.jpg')):\n",
    "                file_path = os.path.join(current_dir, file)\n",
    "                try:\n",
    "                    with Image.open(file_path) as img:\n",
    "                        # Check image dimensions\n",
    "                        if img.size != TARGET_SIZE:\n",
    "                            print(f\"Skipping {file_path}: Size {img.size} is not {TARGET_SIZE}\")\n",
    "                            continue\n",
    "                        \n",
    "                        # Crop the left and right halves down the middle\n",
    "                        width, height = img.size\n",
    "                        mid = width // 2  \n",
    "                        left_img = img.crop((0, 0, mid, height))\n",
    "                        right_img = img.crop((mid, 0, width, height))\n",
    "                        \n",
    "                        base_name, ext = os.path.splitext(file)\n",
    "                        left_filename = f\"{base_name}_left{ext}\"\n",
    "                        right_filename = f\"{base_name}_right{ext}\"\n",
    "                        \n",
    "                        # Save the split images in the split_jpg folder\n",
    "                        left_path = os.path.join(split_dir, left_filename)\n",
    "                        right_path = os.path.join(split_dir, right_filename)\n",
    "                        left_img.save(left_path)\n",
    "                        right_img.save(right_path)\n",
    "                except Exception as e:\n",
    "                    print(f\"Error processing {file_path}: {e}\")\n",
    "\n",
    "        print(f\"\\nFolder: {current_dir}\")\n",
    "        print(f\"Total images in jpg_export: {count_images(current_dir)}\")\n",
    "        print(f\"Total images in split_jpg: {count_images(split_dir)}\")\n"
   ]
  }
 ],
 "metadata": {
  "kernelspec": {
   "display_name": "cdss_venv",
   "language": "python",
   "name": "python3"
  },
  "language_info": {
   "codemirror_mode": {
    "name": "ipython",
    "version": 3
   },
   "file_extension": ".py",
   "mimetype": "text/x-python",
   "name": "python",
   "nbconvert_exporter": "python",
   "pygments_lexer": "ipython3",
   "version": "3.11.11"
  }
 },
 "nbformat": 4,
 "nbformat_minor": 2
}
